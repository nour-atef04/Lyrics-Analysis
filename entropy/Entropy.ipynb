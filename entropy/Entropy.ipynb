{
  "cells": [
    {
      "cell_type": "markdown",
      "id": "M3-CBH5_Z5uZ",
      "metadata": {
        "id": "M3-CBH5_Z5uZ"
      },
      "source": [
        "# Entropy analysis\n",
        "\n",
        "\n",
        "This notebook analyzes the linguistic diversity and complexity of Arabic song lyrics by computing the entropy of distributions across different time scales. Using a dataset of song lyrics, it calculates entropy at the corpus level, for individual songs, and grouped by named decades. These entropy measurements quantify the unpredictability and variation in letter usage, offering insights into how lyrical diversity has evolved over time. The notebook also includes visualizations to help explore trends and patterns, making it a useful tool for researchers interested in computational linguistics, musicology, and cultural analysis of Arabic music.\n"
      ]
    },
    {
      "cell_type": "code",
      "execution_count": 1,
      "id": "e55c54c858c1bfe0",
      "metadata": {
        "id": "e55c54c858c1bfe0",
        "jupyter": {
          "is_executing": true
        }
      },
      "outputs": [],
      "source": [
        "import os\n",
        "import pandas as pd\n",
        "import re\n",
        "import numpy as np\n",
        "import time\n",
        "import matplotlib.pyplot as plt\n",
        "import seaborn as sns\n",
        "from scipy import stats"
      ]
    },
    {
      "cell_type": "code",
      "execution_count": 2,
      "id": "f6df93735f64ff49",
      "metadata": {
        "ExecuteTime": {
          "end_time": "2025-05-14T00:23:11.927337500Z",
          "start_time": "2025-03-20T13:54:23.601218Z"
        },
        "id": "f6df93735f64ff49"
      },
      "outputs": [],
      "source": [
        "def construct_df():\n",
        "    arabic_letters = [\n",
        "        # Hamza variations\n",
        "        '\\u0621', '\\u0622', '\\u0623', '\\u0625', '\\u0627',\n",
        "        '\\u0671', '\\u0672', '\\u0673', '\\u0674', '\\u0675',\n",
        "\n",
        "        # Ba variations\n",
        "        '\\u0628', '\\u066E', '\\u067B', '\\u067E', '\\u0680',\n",
        "\n",
        "        # Ta variations\n",
        "        '\\u062A', '\\u067A', '\\u062B',\n",
        "\n",
        "        # Other letters\n",
        "        '\\u062C', '\\u062D', '\\u062E', '\\u062F', '\\u0630',\n",
        "        '\\u0631', '\\u0632', '\\u0633', '\\u0634', '\\u0635',\n",
        "        '\\u0636', '\\u0637', '\\u0638', '\\u0639', '\\u063A',\n",
        "        '\\u0641', '\\u0642', '\\u0643', '\\u0644', '\\u0645',\n",
        "        '\\u0646', '\\u0647', '\\u06C1', '\\u06C3',\n",
        "\n",
        "        # Waw and Ya variations\n",
        "        '\\u0648', '\\u0624', '\\u0620', '\\u0649', '\\u064A',\n",
        "        '\\u06CC',\n",
        "\n",
        "        # Space\n",
        "        '\\u0020'\n",
        "    ]\n",
        "\n",
        "    df = pd.DataFrame({\n",
        "        \"letter\": arabic_letters,\n",
        "        \"frequency\": [0] * len(arabic_letters)\n",
        "    })\n",
        "\n",
        "    return df\n",
        "\n"
      ]
    },
    {
      "cell_type": "markdown",
      "id": "Jh001zUdVJI7",
      "metadata": {
        "id": "Jh001zUdVJI7"
      },
      "source": [
        "The construct_df() defines a list of Arabic letters, including various forms of certain characters like Hamza, Ba, Ta, and Waw, along with some other commonly used letters and the space character. Each Arabic letter is represented by its corresponding Unicode escape sequence. This list, arabic_letters, is then used to create a pandas DataFrame. The DataFrame has two columns: \"letter\" and \"frequency\". The \"letter\" column contains the Arabic characters, and the \"frequency\" column is initialized with zeros, indicating that the frequency count for each letter is initially zero. The function finally returns the constructed DataFrame, which can be used for further analysis or manipulation, such as counting the frequency of each Arabic letter in a given text."
      ]
    },
    {
      "cell_type": "code",
      "execution_count": 3,
      "id": "da8dfc8959a6f2cc",
      "metadata": {
        "ExecuteTime": {
          "end_time": "2025-05-14T00:23:11.933431400Z",
          "start_time": "2025-03-20T13:54:23.622126Z"
        },
        "id": "da8dfc8959a6f2cc"
      },
      "outputs": [],
      "source": [
        "def tokenize_characters(text, strip_non_alphanum=False):\n",
        "    if strip_non_alphanum:\n",
        "        text = re.sub(r'[^\\w\\s]', '', text)\n",
        "    return list(text)\n",
        "\n",
        "def arabic_characters_frequency(corpus_of_text):\n",
        "    # Construct the dataframe with Arabic letters and initialized frequencies\n",
        "    arabic_letters_frequency = construct_df()\n",
        "\n",
        "    # Iterate through each text in the corpus\n",
        "    for text in corpus_of_text['corpus']:\n",
        "        # Tokenize the text into characters\n",
        "        characters = tokenize_characters(text)\n",
        "\n",
        "        # Count frequencies\n",
        "        for char in characters:\n",
        "            # Find the index of the character in the dataframe\n",
        "            mask = arabic_letters_frequency['letter'] == char\n",
        "\n",
        "            # Increment frequency if the character is found\n",
        "            if mask.any():\n",
        "                arabic_letters_frequency.loc[mask, 'frequency'] += 1\n",
        "\n",
        "    return arabic_letters_frequency"
      ]
    },
    {
      "cell_type": "markdown",
      "id": "1aTxwFT9V0Ka",
      "metadata": {
        "id": "1aTxwFT9V0Ka"
      },
      "source": [
        "The arabic_characters_frequency function takes a corpus of Arabic texts, tokenizes them into individual characters, and updates a DataFrame with the frequencies of each Arabic letter. This DataFrame is initially constructed by the construct_df() function, which sets up a predefined list of Arabic letters. The function is useful for analyzing the frequency of Arabic characters in a given set of songs."
      ]
    },
    {
      "cell_type": "code",
      "execution_count": 4,
      "id": "1a739be130ab59a3",
      "metadata": {
        "ExecuteTime": {
          "end_time": "2025-05-14T00:23:11.936430900Z",
          "start_time": "2025-03-20T13:54:23.635099Z"
        },
        "id": "1a739be130ab59a3",
        "outputId": "3aedd55b-1fe6-4000-bfb1-98eccb47824b"
      },
      "outputs": [
        {
          "name": "stdout",
          "output_type": "stream",
          "text": [
            "   letter  frequency\n",
            "0       ء          0\n",
            "1       آ          0\n",
            "2       أ          0\n",
            "3       إ          0\n",
            "4       ا          3\n",
            "5       ٱ          0\n",
            "6       ٲ          0\n",
            "7       ٳ          0\n",
            "8       ٴ          0\n",
            "9       ٵ          0\n",
            "10      ب          1\n",
            "11      ٮ          0\n",
            "12      ٻ          0\n",
            "13      پ          0\n",
            "14      ڀ          0\n",
            "15      ت          0\n",
            "16      ٺ          0\n",
            "17      ث          0\n",
            "18      ج          0\n",
            "19      ح          3\n",
            "20      خ          1\n",
            "21      د          6\n",
            "22      ذ          0\n",
            "23      ر          0\n",
            "24      ز          2\n",
            "25      س          2\n",
            "26      ش          0\n",
            "27      ص          0\n",
            "28      ض          0\n",
            "29      ط          0\n",
            "30      ظ          0\n",
            "31      ع          4\n",
            "32      غ          0\n",
            "33      ف          0\n",
            "34      ق          0\n",
            "35      ك          0\n",
            "36      ل          5\n",
            "37      م          6\n",
            "38      ن          0\n",
            "39      ه          0\n",
            "40      ہ          0\n",
            "41      ۃ          0\n",
            "42      و          1\n",
            "43      ؤ          0\n",
            "44      ؠ          0\n",
            "45      ى          2\n",
            "46      ي          4\n",
            "47      ی          0\n",
            "48                 7\n",
            "The corpus contains a total of: 47 letters.\n"
          ]
        }
      ],
      "source": [
        "# Sample corpus (equivalent to the R dataframe)\n",
        "corpus_of_text = pd.DataFrame({\n",
        "    'corpus': ['على احمد محمد', 'محمد عبد العزيز خميس', 'وليد السيد على']\n",
        "})\n",
        "\n",
        "# Function to compute the frequency of Arabic letters in the corpus\n",
        "freqs = arabic_characters_frequency(corpus_of_text)\n",
        "\n",
        "# Display the frequency dataframe\n",
        "print(freqs)\n",
        "\n",
        "# Calculate and print the total number of letters in the corpus\n",
        "total_letters = freqs['frequency'].sum()\n",
        "print(f\"The corpus contains a total of: {total_letters} letters.\")"
      ]
    },
    {
      "cell_type": "markdown",
      "id": "f1cVsxkMWYEG",
      "metadata": {
        "id": "f1cVsxkMWYEG"
      },
      "source": [
        "Summary of Execution:\n",
        "\n",
        "This code computes the frequency of Arabic letters in the given corpus of a set of three Arabic sentences. It outputs:\n",
        "\n",
        "- A DataFrame showing each Arabic letter and its frequency in the corpus.\n",
        "\n",
        "- The total number of letters in the corpus, based on the sum of the frequencies.\n",
        "\n",
        "The arabic_characters_frequency function is key here, as it processes the text, tokenizes it into individual characters, and counts the occurrences of each Arabic letter.\n"
      ]
    },
    {
      "cell_type": "code",
      "execution_count": 5,
      "id": "c3a902fa460cdfe2",
      "metadata": {
        "ExecuteTime": {
          "end_time": "2025-05-14T00:23:11.936430900Z",
          "start_time": "2025-03-20T13:54:23.669847Z"
        },
        "id": "c3a902fa460cdfe2"
      },
      "outputs": [],
      "source": [
        "def normalize_arabic_letters(freqs):\n",
        "    normalization_map = {\n",
        "        # Alif variations\n",
        "        'alif_group': ['\\u0621', '\\u0622', '\\u0623', '\\u0625', '\\u0627',\n",
        "                       '\\u0671', '\\u0672', '\\u0673', '\\u0674', '\\u0675'],\n",
        "\n",
        "        # Ba variations\n",
        "        'ba_group': ['\\u0628', '\\u066E', '\\u067B', '\\u067E', '\\u0680'],\n",
        "\n",
        "        # Ta variations\n",
        "        'ta_group': ['\\u062A', '\\u067A', '\\u062B'],\n",
        "\n",
        "        # Haa variations\n",
        "        'haa_group': ['\\u0647', '\\u06C1', '\\u06C3'],\n",
        "\n",
        "        # Waw variations\n",
        "        'waw_group': ['\\u0648', '\\u0624', '\\u0620'],\n",
        "\n",
        "        # Ya variations\n",
        "        'ya_group': ['\\u0649', '\\u064A', '\\u06CC']\n",
        "    }\n",
        "\n",
        "    # Create a list to store normalized frequencies\n",
        "    normalized_data = []\n",
        "\n",
        "    # Normalize frequencies\n",
        "    for group_name, letter_group in normalization_map.items():\n",
        "        group_freq = freqs[freqs['letter'].isin(letter_group)]['frequency'].sum()\n",
        "        normalized_data.append({\n",
        "            'letter_group': group_name,\n",
        "            'frequency': group_freq\n",
        "        })\n",
        "\n",
        "    # Add space separately\n",
        "    space_freq = freqs[freqs['letter'] == '\\u0020']['frequency'].sum()\n",
        "    normalized_data.append({\n",
        "        'letter_group': 'space',\n",
        "        'frequency': space_freq\n",
        "    })\n",
        "\n",
        "    # Convert to DataFrame\n",
        "    normalized_freqs = pd.DataFrame(normalized_data)\n",
        "\n",
        "    return normalized_freqs\n",
        "\n"
      ]
    },
    {
      "cell_type": "markdown",
      "id": "n-rsEIhsczyy",
      "metadata": {
        "id": "n-rsEIhsczyy"
      },
      "source": [
        "The normalize_arabic_letters function groups similar Arabic letters (such as different variations of \"Alif\" or \"Ba\") into larger categories and calculates the total frequency for each group. This normalization process simplifies the analysis by reducing the complexity of individual letter variations. It also includes the frequency of spaces separately. The function returns a DataFrame with the total frequencies for each letter group and space, making it easier to analyze the overall distribution of characters in the corpus."
      ]
    },
    {
      "cell_type": "code",
      "execution_count": 6,
      "id": "86175a80c222d85b",
      "metadata": {
        "ExecuteTime": {
          "end_time": "2025-05-14T00:23:11.937430600Z",
          "start_time": "2025-03-20T13:54:23.683444Z"
        },
        "id": "86175a80c222d85b"
      },
      "outputs": [],
      "source": [
        "def extract_prob_dist(frequency):\n",
        "    # Compute total sample size\n",
        "    total = frequency['frequency'].sum()\n",
        "\n",
        "    # Normalize to get probability distribution\n",
        "    prob_dist = frequency['frequency'] / total\n",
        "\n",
        "    return prob_dist\n",
        "\n",
        "def entropy(prob_dist):\n",
        "    # Remove zero probabilities\n",
        "    non_zero_probs = prob_dist[prob_dist > 0]\n",
        "\n",
        "    # Compute entropy\n",
        "    return -np.sum(non_zero_probs * np.log2(non_zero_probs))"
      ]
    },
    {
      "cell_type": "markdown",
      "id": "1lTzd3qxhLup",
      "metadata": {
        "id": "1lTzd3qxhLup"
      },
      "source": [
        "\n",
        "1. **`extract_prob_dist` function:**\n",
        "\n",
        "   * This function takes a list of frequencies (how often each letter appears) and converts it into probabilities.\n",
        "   * It first calculates the total by summing up the frequencies.\n",
        "   * Then, it divides each frequency by this total to get the probability of each letter.\n",
        "\n",
        "2. **`entropy` function:**\n",
        "\n",
        "   * Entropy is a measure of how \"spread out\" or \"uncertain\" the probabilities are.\n",
        "   * This function takes the probabilities and calculates the entropy by using a formula.\n",
        "   * It ignores probabilities that are zero because they don’t add any uncertainty.\n",
        "   * Finally, it calculates the entropy by multiplying each probability by its log value (log base 2) and summing it up, but with a negative sign to get the final result.\n",
        "\n",
        "For Summing up:\n",
        "\n",
        "* The `extract_prob_dist` function turns letter frequencies into probabilities.\n",
        "* The `entropy` function measures how uncertain or unpredictable these probabilities are.\n"
      ]
    },
    {
      "cell_type": "code",
      "execution_count": null,
      "id": "81ea7f257f4a309e",
      "metadata": {
        "ExecuteTime": {
          "end_time": "2025-05-14T00:23:11.937430600Z",
          "start_time": "2025-03-20T13:54:23.696289Z"
        },
        "id": "81ea7f257f4a309e",
        "outputId": "b651fc0b-7704-48c7-ecf5-057834990018"
      },
      "outputs": [
        {
          "name": "stdout",
          "output_type": "stream",
          "text": [
            "Total number of songs: 310\n",
            "Entropy of the lyrics: 2.5123773010471995\n",
            "Processing time: 202.31 seconds\n"
          ]
        }
      ],
      "source": [
        "def main():\n",
        "    # Load songs data\n",
        "    DATA_PATH = r\"../data/amr_diab_songs.csv\"\n",
        "\n",
        "    try:\n",
        "        # Load csv file\n",
        "        songs = pd.read_csv(DATA_PATH)\n",
        "\n",
        "        # Extract lyrics\n",
        "        lyrics = pd.DataFrame({\n",
        "            'corpus': songs['Lyrics'].dropna()\n",
        "        })\n",
        "\n",
        "        print(f\"Total number of songs: {len(lyrics)}\")\n",
        "\n",
        "        # Calculate letter frequencies\n",
        "        start_time = time.time()\n",
        "        freqs = arabic_characters_frequency(lyrics)\n",
        "\n",
        "        # Normalize frequencies\n",
        "        normalized_freqs = normalize_arabic_letters(freqs)\n",
        "\n",
        "        # Calculate probability distribution\n",
        "        prob_dist = extract_prob_dist(normalized_freqs)\n",
        "\n",
        "        # Calculate entropy\n",
        "        entropy_value = entropy(prob_dist)\n",
        "\n",
        "        end_time = time.time()\n",
        "\n",
        "        print(f\"Entropy of the lyrics: {entropy_value}\")\n",
        "        print(f\"Processing time: {end_time - start_time:.2f} seconds\")\n",
        "\n",
        "        # Save frequencies to CSV\n",
        "        freqs.to_csv(r\"./results/frequencies.csv\", index=False)\n",
        "        normalized_freqs.to_csv(r\"./results/normalized_frequencies.csv\", index=False)\n",
        "\n",
        "    except Exception as e:\n",
        "        print(f\"An error occurred: {e}\")\n",
        "        # Print traceback for more detailed error information\n",
        "        import traceback\n",
        "        traceback.print_exc()\n",
        "\n",
        "if __name__ == \"__main__\":\n",
        "    main()"
      ]
    },
    {
      "cell_type": "markdown",
      "id": "lR8AW_qxh7CN",
      "metadata": {
        "id": "lR8AW_qxh7CN"
      },
      "source": [
        "The `main()` function processes a dataset of song lyrics stored in an Excel file by performing the following steps:\n",
        "\n",
        "1. **Loads the data**: It reads the song lyrics from the songs.xlsx file and stores them in a DataFrame.\n",
        "2. **Extracts lyrics**: It isolates the lyrics of each song, dropping any missing values.\n",
        "3. **Calculates letter frequencies**: It counts how often each Arabic letter appears in the lyrics using the `arabic_characters_frequency` function.\n",
        "4. **Normalizes frequencies**: It groups similar letters (different variations of \"Alif\") and sums their frequencies for more simplified analysis.\n",
        "5. **Computes probability distribution**: It normalizes the frequencies into probabilities.\n",
        "6. **Calculates entropy**: It measures the uncertainty or randomness in the lyrics based on the probability distribution using the `entropy` function.\n",
        "\n",
        "Commenting on the outputs:\n",
        "\n",
        "The entropy value measures the unpredictability or disorder in the lyrics. In this case, the entropy value of approximately 2.51 suggests a moderate level of uncertainty or variety in the distribution of Arabic letters across the lyrics. A higher entropy value would indicate more randomness or unpredictability in the text, while a lower value would suggest more repetitive or structured content."
      ]
    },
    {
      "cell_type": "code",
      "execution_count": 13,
      "id": "59d13539e0bb769",
      "metadata": {
        "ExecuteTime": {
          "end_time": "2025-05-14T00:23:11.938430500Z",
          "start_time": "2025-03-20T13:56:47.407899Z"
        },
        "id": "59d13539e0bb769"
      },
      "outputs": [],
      "source": [
        "def compute_corpus_entropy(lyrics_df):\n",
        "    \"\"\"Compute the entropy of the whole corpus\"\"\"\n",
        "    # Create a dataframe with only the lyrics column\n",
        "    lyrics_corpus = pd.DataFrame({\n",
        "        'corpus': lyrics_df['Lyrics'].dropna()\n",
        "    })\n",
        "\n",
        "    # Calculate letter frequencies\n",
        "    freqs = arabic_characters_frequency(lyrics_corpus)\n",
        "\n",
        "    # Normalize frequencies\n",
        "    letter_normalized_freqs = normalize_arabic_letters(freqs)\n",
        "\n",
        "    # Calculate probability distribution\n",
        "    prob_dist = extract_prob_dist(letter_normalized_freqs)\n",
        "\n",
        "    # Calculate entropy\n",
        "    corpus_entropy = entropy(prob_dist)\n",
        "\n",
        "    print(f\"The entropy of the whole corpus is: {corpus_entropy}\")\n",
        "\n",
        "    return corpus_entropy"
      ]
    },
    {
      "cell_type": "markdown",
      "id": "M6IhvXDCjdOJ",
      "metadata": {
        "id": "M6IhvXDCjdOJ"
      },
      "source": [
        "The `compute_corpus_entropy` function calculates the entropy of a given corpus of song lyrics. It first extracts the lyrics from the provided DataFrame, then computes the frequency of Arabic letters in the lyrics. These frequencies are normalized by grouping similar letter variations together. Next, the function calculates the probability distribution of the normalized frequencies. Finally, it computes the entropy, which measures the level of unpredictability or disorder in the distribution of letters. The entropy value is printed and returned, providing insight into the randomness or structure of the letter usage across the entire corpus of lyrics.\n"
      ]
    },
    {
      "cell_type": "code",
      "execution_count": 14,
      "id": "67d10b3f497f0a36",
      "metadata": {
        "ExecuteTime": {
          "end_time": "2025-05-14T00:23:11.939430300Z",
          "start_time": "2025-03-20T13:56:47.422671Z"
        },
        "id": "67d10b3f497f0a36"
      },
      "outputs": [],
      "source": [
        "def compute_song_entropy(lyrics_df):\n",
        "    \"\"\"Compute entropy for every song in the corpus\"\"\"\n",
        "    N = len(lyrics_df)  # get the total number of songs\n",
        "    song_entropy = []\n",
        "\n",
        "    for i in range(N):\n",
        "        # Get lyrics of current song\n",
        "        ly = pd.DataFrame({\n",
        "            'corpus': [lyrics_df.iloc[i]['Lyrics']]\n",
        "        })\n",
        "\n",
        "        # Skip if lyrics is NaN\n",
        "        if pd.isna(ly['corpus'][0]):\n",
        "            song_entropy.append(np.nan)\n",
        "            continue\n",
        "\n",
        "        # Compute the histogram/frequency of all Arabic letters with all variations\n",
        "        freqs = arabic_characters_frequency(ly)\n",
        "\n",
        "        # Normalize Arabic letters\n",
        "        letter_normalized_freqs = normalize_arabic_letters(freqs)\n",
        "\n",
        "        # Convert the histogram into proper empirical probability mass function\n",
        "        prob_dist = extract_prob_dist(letter_normalized_freqs)\n",
        "\n",
        "        # Calculate entropy\n",
        "        song_entropy.append(entropy(prob_dist))\n",
        "\n",
        "    # Add entropy values to lyrics dataframe\n",
        "    lyrics_df['entropy'] = song_entropy\n",
        "\n",
        "    # Find min and max entropy songs\n",
        "    valid_entropy = lyrics_df.dropna(subset=['entropy'])\n",
        "\n",
        "    min_entropy_song = valid_entropy.loc[valid_entropy['entropy'].idxmin()]\n",
        "    max_entropy_song = valid_entropy.loc[valid_entropy['entropy'].idxmax()]\n",
        "\n",
        "    print(f\"The song with minimum entropy: {min_entropy_song['Song']}\")\n",
        "    print(f\"It has a minimum entropy of: {min_entropy_song['entropy']}\")\n",
        "    print(f\"The song with maximum entropy: {max_entropy_song['Song']}\")\n",
        "    print(f\"It has a maximum entropy of: {max_entropy_song['entropy']}\")\n",
        "\n",
        "    return lyrics_df"
      ]
    },
    {
      "cell_type": "markdown",
      "id": "mv684KUZ0p_l",
      "metadata": {
        "id": "mv684KUZ0p_l"
      },
      "source": [
        "The `compute_song_entropy` function calculates the entropy of each song's lyrics in a given DataFrame of song lyrics. It computes the letter frequencies, normalizes them, converts the frequencies into a probability distribution, and then calculates the entropy for each song. It also identifies and prints the songs with the lowest and highest entropy, providing insight into which songs have the most predictable (low entropy) and least predictable (high entropy) letter distributions. The function returns the updated DataFrame with entropy values for each song.\n"
      ]
    },
    {
      "cell_type": "code",
      "execution_count": 16,
      "id": "5367d905c98320ad",
      "metadata": {
        "ExecuteTime": {
          "end_time": "2025-05-14T00:23:11.940430300Z",
          "start_time": "2025-03-20T13:56:47.434106Z"
        },
        "id": "5367d905c98320ad"
      },
      "outputs": [],
      "source": [
        "def plot_entropy_histogram(lyrics_df):\n",
        "    \"\"\"Plot histogram of entropy values across songs\"\"\"\n",
        "    plt.figure(figsize=(10, 6))\n",
        "\n",
        "    # Drop NaN entropy values\n",
        "    valid_entropy = lyrics_df.dropna(subset=['entropy'])\n",
        "\n",
        "    # Create histogram\n",
        "    plt.hist(valid_entropy['entropy'], bins=20, color='lightblue', edgecolor='black')\n",
        "\n",
        "    # Add title and labels\n",
        "    plt.title('Histogram of entropy values of individual songs')\n",
        "    plt.xlabel('Entropy')\n",
        "    plt.ylabel('Frequency')\n",
        "\n",
        "    # Customize x-axis\n",
        "    min_entropy = round(valid_entropy['entropy'].min(), 1)\n",
        "    max_entropy = round(valid_entropy['entropy'].max(), 1)\n",
        "    plt.xticks(np.arange(min_entropy, max_entropy + 0.1, 0.1))\n",
        "    plt.xticks(rotation=45)\n",
        "\n",
        "    # Save and show plot\n",
        "    plt.tight_layout()\n",
        "    plt.savefig(r\"./results/entropy_histogram.png\")\n",
        "    plt.show()"
      ]
    },
    {
      "cell_type": "markdown",
      "id": "vWB6z3yb02BA",
      "metadata": {
        "id": "vWB6z3yb02BA"
      },
      "source": [
        "The `plot_entropy_histogram` function generates a histogram to visualize the distribution of entropy values across individual songs in the given DataFrame. It ensures that only valid entropy values (non-NaN) are used.  This helps to analyze the spread of entropy values and observe patterns in the unpredictability of the lyrics across songs."
      ]
    },
    {
      "cell_type": "code",
      "execution_count": 17,
      "id": "1017281f3f809a4c",
      "metadata": {
        "ExecuteTime": {
          "end_time": "2025-05-14T00:23:11.941490800Z",
          "start_time": "2025-03-20T13:56:47.455540Z"
        },
        "id": "1017281f3f809a4c"
      },
      "outputs": [],
      "source": [
        "def compute_entropy_per_year(songs_df):\n",
        "    \"\"\"Compute entropy for each year\"\"\"\n",
        "    # Group by year\n",
        "    years = songs_df['Year'].dropna().unique()\n",
        "    yearly_entropy = []\n",
        "\n",
        "    for year in years:\n",
        "        # Get songs from this year\n",
        "        year_songs = songs_df[songs_df['Year'] == year]\n",
        "\n",
        "        # Create lyrics corpus for this year\n",
        "        year_lyrics = pd.DataFrame({\n",
        "            'corpus': year_songs['Lyrics'].dropna()\n",
        "        })\n",
        "\n",
        "        # Skip if no lyrics available for this year\n",
        "        if len(year_lyrics) == 0:\n",
        "            continue\n",
        "\n",
        "        # Compute frequencies\n",
        "        freqs = arabic_characters_frequency(year_lyrics)\n",
        "\n",
        "        # Normalize frequencies\n",
        "        letter_normalized_freqs = normalize_arabic_letters(freqs)\n",
        "\n",
        "        # Calculate probability distribution\n",
        "        prob_dist = extract_prob_dist(letter_normalized_freqs)\n",
        "\n",
        "        # Calculate entropy\n",
        "        yearly_entropy.append({\n",
        "            'Year': year,\n",
        "            'entropy': entropy(prob_dist)\n",
        "        })\n",
        "\n",
        "    # Convert to DataFrame\n",
        "    yearly_entropy_df = pd.DataFrame(yearly_entropy)\n",
        "\n",
        "    return yearly_entropy_df"
      ]
    },
    {
      "cell_type": "markdown",
      "id": "aCDfhTHV1V2g",
      "metadata": {
        "id": "aCDfhTHV1V2g"
      },
      "source": [
        "The `compute_entropy_per_year` function calculates the entropy for each year of song lyrics in the given dataset. It first filters the data by year, computes the letter frequencies, normalizes them, and calculates the entropy for each year. The result is returned as a DataFrame with two columns: `'Year'` and `'entropy'`. This allows for analysis of the entropy of song lyrics over time, showing how the unpredictability or diversity of letter usage varies by year.\n"
      ]
    },
    {
      "cell_type": "code",
      "execution_count": 18,
      "id": "704795029d4b5d75",
      "metadata": {
        "ExecuteTime": {
          "end_time": "2025-05-14T00:23:11.941490800Z",
          "start_time": "2025-03-20T13:56:47.468478Z"
        },
        "id": "704795029d4b5d75"
      },
      "outputs": [],
      "source": [
        "def plot_yearly_entropy(yearly_entropy_df):\n",
        "    \"\"\"Plot entropy over years with trend lines\"\"\"\n",
        "    plt.figure(figsize=(12, 6))\n",
        "\n",
        "    # Scatter plot\n",
        "    plt.scatter(yearly_entropy_df['Year'], yearly_entropy_df['entropy'],\n",
        "                alpha=0.4, color='darkblue', s=30)\n",
        "\n",
        "    # Linear regression\n",
        "    x = yearly_entropy_df['Year']\n",
        "    y = yearly_entropy_df['entropy']\n",
        "    slope, intercept, r_value, p_value, std_err = stats.linregress(x, y)\n",
        "    line_x = np.array([min(x), max(x)])\n",
        "    line_y = slope * line_x + intercept\n",
        "    plt.plot(line_x, line_y, color='black', label=f'Linear (r={r_value:.2f})')\n",
        "\n",
        "    # LOESS/LOWESS smoothing using seaborn\n",
        "    sns.regplot(x='Year', y='entropy', data=yearly_entropy_df,\n",
        "                scatter=False, lowess=True, color='red', line_kws={'lw': 2})\n",
        "\n",
        "    # Add title and labels\n",
        "    plt.title('Yearly Entropy')\n",
        "    plt.xlabel('Year')\n",
        "    plt.ylabel('Entropy')\n",
        "\n",
        "    # Customize axes\n",
        "    plt.xticks(np.arange(min(yearly_entropy_df['Year']), max(yearly_entropy_df['Year']) + 1, 1),\n",
        "               rotation=45)\n",
        "    plt.yticks(np.arange(round(min(yearly_entropy_df['entropy']), 2),\n",
        "                         round(max(yearly_entropy_df['entropy']), 2) + 0.01, 0.01))\n",
        "\n",
        "    plt.grid(True, alpha=0.3)\n",
        "    plt.legend()\n",
        "    plt.tight_layout()\n",
        "\n",
        "    # Save and show plot\n",
        "    plt.savefig(r\"./results/yearly_entropy.png\")\n",
        "    plt.show()\n",
        "\n"
      ]
    },
    {
      "cell_type": "code",
      "execution_count": 19,
      "id": "2ebb8d60d34fe0a7",
      "metadata": {
        "ExecuteTime": {
          "end_time": "2025-05-14T00:23:11.942513100Z",
          "start_time": "2025-03-20T13:56:47.481864Z"
        },
        "id": "2ebb8d60d34fe0a7"
      },
      "outputs": [],
      "source": [
        "def compute_entropy_per_decade(songs_df):\n",
        "    \"\"\"Compute entropy for each decade\"\"\"\n",
        "    # Create decade column\n",
        "    songs_df['Decade'] = (songs_df['Year'] // 10) * 10\n",
        "\n",
        "    # Group by decade\n",
        "    decades = songs_df['Decade'].dropna().unique()\n",
        "    decade_entropy = []\n",
        "\n",
        "    for decade in decades:\n",
        "        # Get songs from this decade\n",
        "        decade_songs = songs_df[songs_df['Decade'] == decade]\n",
        "\n",
        "        # Create lyrics corpus for this decade\n",
        "        decade_lyrics = pd.DataFrame({\n",
        "            'corpus': decade_songs['Lyrics'].dropna()\n",
        "        })\n",
        "\n",
        "        # Skip if no lyrics available for this decade\n",
        "        if len(decade_lyrics) == 0:\n",
        "            continue\n",
        "\n",
        "        # Compute frequencies\n",
        "        freqs = arabic_characters_frequency(decade_lyrics)\n",
        "\n",
        "        # Normalize frequencies\n",
        "        letter_normalized_freqs = normalize_arabic_letters(freqs)\n",
        "\n",
        "        # Calculate probability distribution\n",
        "        prob_dist = extract_prob_dist(letter_normalized_freqs)\n",
        "\n",
        "        # Calculate entropy\n",
        "        decade_entropy.append({\n",
        "            'Decade': decade,\n",
        "            'entropy': entropy(prob_dist)\n",
        "        })\n",
        "\n",
        "    # Convert to DataFrame\n",
        "    decade_entropy_df = pd.DataFrame(decade_entropy)\n",
        "\n",
        "    return decade_entropy_df\n",
        "\n"
      ]
    },
    {
      "cell_type": "markdown",
      "id": "j6r6pWJL15wG",
      "metadata": {
        "id": "j6r6pWJL15wG"
      },
      "source": [
        "The `compute_entropy_per_decade` function calculates the entropy of song lyrics for each decade in the given dataset. It first groups the songs by decade, computes the letter frequencies, normalizes them, and calculates the entropy for each decade. The result is returned as a DataFrame with two columns: `'Decade'` and `'entropy'`. This allows for analysis of how the unpredictability or variety in letter usage has changed over different decades.\n"
      ]
    },
    {
      "cell_type": "code",
      "execution_count": 20,
      "id": "ea4c4cffc3f9269c",
      "metadata": {
        "ExecuteTime": {
          "end_time": "2025-05-14T00:23:11.942513100Z",
          "start_time": "2025-03-20T13:56:47.493589Z"
        },
        "id": "ea4c4cffc3f9269c"
      },
      "outputs": [],
      "source": [
        "def plot_decade_entropy(decade_entropy_df):\n",
        "    \"\"\"Plot entropy by decade as a bar chart\"\"\"\n",
        "    plt.figure(figsize=(10, 6))\n",
        "\n",
        "    # Bar chart\n",
        "    plt.bar(decade_entropy_df['Decade'].astype(str), decade_entropy_df['entropy'],\n",
        "            color='lightblue', edgecolor='black')\n",
        "\n",
        "    # Add title and labels\n",
        "    plt.title('Entropy by Decade')\n",
        "    plt.xlabel('Decade')\n",
        "    plt.ylabel('Entropy')\n",
        "\n",
        "    # Add value labels on top of bars\n",
        "    for i, v in enumerate(decade_entropy_df['entropy']):\n",
        "        plt.text(i, v + 0.01, f'{v:.3f}', ha='center')\n",
        "\n",
        "    plt.grid(True, alpha=0.3, axis='y')\n",
        "    plt.tight_layout()\n",
        "\n",
        "    # Save and show plot\n",
        "    plt.savefig(r\"./results/decade_entropy.png\")\n",
        "    plt.show()\n",
        "\n"
      ]
    },
    {
      "cell_type": "code",
      "execution_count": 21,
      "id": "21b244a602012bc",
      "metadata": {
        "ExecuteTime": {
          "end_time": "2025-05-14T00:23:11.943513600Z",
          "start_time": "2025-03-20T13:56:47.513910Z"
        },
        "id": "21b244a602012bc",
        "outputId": "49bd6ca6-3ff8-44d4-df1d-57b1fb64a220"
      },
      "outputs": [
        {
          "name": "stdout",
          "output_type": "stream",
          "text": [
            "Loading songs data...\n",
            "Total number of songs with lyrics: 310\n",
            "\n",
            "--- Computing corpus entropy ---\n",
            "The entropy of the whole corpus is: 2.5123773010471995\n",
            "\n",
            "--- Computing song entropy ---\n",
            "The song with minimum entropy: لا لا\n",
            "It has a minimum entropy of: 1.6237045228232625\n",
            "The song with maximum entropy: بلاش تكلمها\n",
            "It has a maximum entropy of: 2.682116663807732\n",
            "\n",
            "--- Plotting entropy histogram ---\n"
          ]
        },
        {
          "data": {
            "image/png": "[encoded data removed]",
            "text/plain": [
              "<Figure size 1000x600 with 1 Axes>"
            ]
          },
          "metadata": {},
          "output_type": "display_data"
        },
        {
          "name": "stdout",
          "output_type": "stream",
          "text": [
            "\n",
            "--- Computing yearly entropy ---\n",
            "\n",
            "--- Plotting yearly entropy ---\n"
          ]
        },
        {
          "data": {
            "image/png": "[encoded data removed]",
            "text/plain": [
              "<Figure size 1200x600 with 1 Axes>"
            ]
          },
          "metadata": {},
          "output_type": "display_data"
        },
        {
          "name": "stdout",
          "output_type": "stream",
          "text": [
            "\n",
            "--- Computing decade entropy ---\n",
            "\n",
            "--- Plotting decade entropy ---\n"
          ]
        },
        {
          "data": {
            "image/png": "[encoded data removed]",
            "text/plain": [
              "<Figure size 1000x600 with 1 Axes>"
            ]
          },
          "metadata": {},
          "output_type": "display_data"
        },
        {
          "name": "stdout",
          "output_type": "stream",
          "text": [
            "\n",
            "--- Saving results ---\n",
            "\n",
            "Analysis complete. Results and plots saved.\n"
          ]
        }
      ],
      "source": [
        "def main():\n",
        "    # Load songs data\n",
        "    DATA_PATH = r\"../data/amr_diab_songs.csv\"\n",
        "\n",
        "    try:\n",
        "        # Load csv file\n",
        "        print(\"Loading songs data...\")\n",
        "        songs = pd.read_csv(DATA_PATH)\n",
        "\n",
        "        # Extract lyrics for whole corpus entropy\n",
        "        lyrics = pd.DataFrame({\n",
        "            'Song': songs['Song'],\n",
        "            'Year': songs['Year'],\n",
        "            'Lyrics': songs['Lyrics'].dropna()\n",
        "        })\n",
        "\n",
        "        print(f\"Total number of songs with lyrics: {len(lyrics)}\")\n",
        "\n",
        "        # 1. Compute corpus entropy\n",
        "        print(\"\\n--- Computing corpus entropy ---\")\n",
        "        corpus_entropy = compute_corpus_entropy(lyrics)\n",
        "\n",
        "        # 2. Compute song entropy\n",
        "        print(\"\\n--- Computing song entropy ---\")\n",
        "        lyrics_with_entropy = compute_song_entropy(lyrics)\n",
        "\n",
        "        # 3. Plot entropy histogram\n",
        "        print(\"\\n--- Plotting entropy histogram ---\")\n",
        "        plot_entropy_histogram(lyrics_with_entropy)\n",
        "\n",
        "        # 4. Compute and plot yearly entropy\n",
        "        print(\"\\n--- Computing yearly entropy ---\")\n",
        "        yearly_entropy = compute_entropy_per_year(songs)\n",
        "        print(\"\\n--- Plotting yearly entropy ---\")\n",
        "        plot_yearly_entropy(yearly_entropy)\n",
        "\n",
        "        # 5. Compute and plot decade entropy\n",
        "        print(\"\\n--- Computing decade entropy ---\")\n",
        "        decade_entropy = compute_entropy_per_decade(songs)\n",
        "        print(\"\\n--- Plotting decade entropy ---\")\n",
        "        plot_decade_entropy(decade_entropy)\n",
        "\n",
        "        # Save results\n",
        "        print(\"\\n--- Saving results ---\")\n",
        "        lyrics_with_entropy.to_csv(r\"./results/songs_with_entropy.csv\", index=False)\n",
        "        yearly_entropy.to_csv(r\"./results/yearly_entropy.csv\", index=False)\n",
        "        decade_entropy.to_csv(r\"./results/decade_entropy.csv\", index=False)\n",
        "\n",
        "        print(\"\\nAnalysis complete. Results and plots saved.\")\n",
        "\n",
        "    except Exception as e:\n",
        "        print(f\"An error occurred: {e}\")\n",
        "        # Optional: print traceback for more detailed error information\n",
        "        import traceback\n",
        "        traceback.print_exc()\n",
        "\n",
        "if __name__ == \"__main__\":\n",
        "    main()"
      ]
    },
    {
      "cell_type": "markdown",
      "id": "WIOLP35h2Qoh",
      "metadata": {
        "id": "WIOLP35h2Qoh"
      },
      "source": [
        "The `main()` function is the core of the analysis process for the song lyrics dataset. It loads the song data, computes entropy at different levels (corpus, song, yearly, and decade), plots histograms and time-based entropy graphs, and saves the results into CSV files. It also handles any potential errors.\n",
        "\n",
        "### ` Comment on (Histogram of Entropy Values of Individual Songs)`\n",
        "\n",
        "\n",
        "  * The distribution appears to be skewed to the right, meaning most songs have lower entropy values, with a few songs having higher entropy. This suggests that the majority of the songs are relatively more predictable in terms of their letter distribution, while some songs have more variability.\n",
        "  * The peak of the histogram is around 2.5, indicating that most songs have entropy values in this range.\n",
        "\n",
        "* **How It Helps**:\n",
        "  This histogram is useful for understanding the overall distribution of unpredictability or diversity in the song lyrics. It allows us to visually compare how consistent or varied the letter distributions are across different songs. If the goal is to analyze lyric diversity, this visualization helps in identifying trends and outliers.\n",
        "\n",
        "---\n",
        "\n",
        "### `Comment on (Yearly Entropy Plot)`\n",
        "\n",
        "\n",
        "  * The plot shows that the entropy values appear to slightly increase over time, suggesting that song lyrics are becoming slightly more diverse or unpredictable in terms of their letter distribution as the years go by.\n",
        "\n",
        "\n",
        "* **How It Helps**:\n",
        "  This plot is helpful for observing the overall trend of entropy in song lyrics over the years. It allows us to analyze how lyric complexity (measured through entropy) has evolved across different time periods. It also highlights any shifts in musical trends and textual variety across decades.\n",
        "\n",
        "---\n",
        "\n",
        "### `Comment on  (Decade Entropy Bar Plot)`\n",
        "\n",
        "  * The plot reveals that the entropy values for each decade are relatively similar, with a small fluctuation between 2.46 and 2.53. This suggests that, on average, the entropy in song lyrics has remained relatively stable across the decades.\n",
        "  * The bars are of similar height, indicating that there hasn't been a significant shift in the diversity of letter distributions in the lyrics over time.\n",
        "---\n",
        "\n",
        "### ` General Analysis of the Visualizations`\n",
        "\n",
        "* **Understanding Song and Lyric Diversity**:\n",
        "  These visualizations help us analyze the diversity and unpredictability in the lyrics of songs. By looking at entropy values across different levels (individual songs, years, decades), we gain insights into how much variability exists in the language and themes used in song lyrics.\n",
        "\n",
        "* **Trends Over Time**:\n",
        "  The yearly and decade plots provide a clear view of any trends in lyric diversity over time. While the overall entropy has increased slightly, the change is not drastic, suggesting that lyrical patterns might have remained stable despite evolving musical genres.\n",
        "\n",
        "\n",
        "\n"
      ]
    },
    {
      "cell_type": "code",
      "execution_count": 22,
      "id": "642152fb38d5eee",
      "metadata": {
        "ExecuteTime": {
          "end_time": "2025-05-14T00:23:11.943513600Z",
          "start_time": "2025-03-20T14:04:16.842020Z"
        },
        "id": "642152fb38d5eee"
      },
      "outputs": [],
      "source": [
        "def compute_entropy_by_named_decade(songs_df):\n",
        "    \"\"\"\n",
        "    Compute entropy for each named decade period (Early/Late 1940s, 1950s, etc.)\n",
        "    \"\"\"\n",
        "    # Create a copy of the dataframe\n",
        "    songs = songs_df.copy()\n",
        "\n",
        "    # Sort by Year\n",
        "    songs = songs.sort_values('Year')\n",
        "\n",
        "    # Create named decade column\n",
        "    def assign_named_decade(year):\n",
        "        if pd.isna(year):\n",
        "            return np.nan\n",
        "        year = int(year)\n",
        "        if 1945 <= year <= 1949:\n",
        "            return \"Late 1940s\"\n",
        "        elif 1950 <= year <= 1954:\n",
        "            return \"Early 1950s\"\n",
        "        elif 1955 <= year <= 1959:\n",
        "            return \"Late 1950s\"\n",
        "        elif 1960 <= year <= 1964:\n",
        "            return \"Early 1960s\"\n",
        "        elif 1965 <= year <= 1969:\n",
        "            return \"Late 1960s\"\n",
        "        elif 1970 <= year <= 1974:\n",
        "            return \"Early 1970s\"\n",
        "        elif 1975 <= year <= 1979:\n",
        "            return \"Late 1970s\"\n",
        "        elif 1980 <= year <= 1984:\n",
        "            return \"Early 1980s\"\n",
        "        elif 1985 <= year <= 1989:\n",
        "            return \"Late 1980s\"\n",
        "        else:\n",
        "            return np.nan\n",
        "\n",
        "    songs['Decade'] = songs['Year'].apply(assign_named_decade)\n",
        "\n",
        "    # Extract only songs with available lyrics\n",
        "    lyrics = pd.DataFrame({\n",
        "        'Decade': songs['Decade'],\n",
        "        'Song': songs['Song'],\n",
        "        'Lyrics': songs['Lyrics']\n",
        "    })\n",
        "\n",
        "    # Drop rows with NaN values\n",
        "    lyrics = lyrics.dropna()\n",
        "\n",
        "    # Add numeric years and part (early/late) columns for sorting\n",
        "    def extract_year(decade_str):\n",
        "        if pd.isna(decade_str):\n",
        "            return np.nan\n",
        "        # Extract numeric part using regex\n",
        "        match = re.search(r'(\\d{4})', decade_str)\n",
        "        if match:\n",
        "            return int(match.group(1))\n",
        "        return np.nan\n",
        "\n",
        "    lyrics['years'] = lyrics['Decade'].apply(extract_year)\n",
        "    lyrics['part'] = lyrics['Decade'].apply(lambda x: 0 if 'Early' in str(x) else 1)\n",
        "\n",
        "    # Sort by years and part\n",
        "    lyrics = lyrics.sort_values(['years', 'part'])\n",
        "\n",
        "    # Define decade order for proper sorting in plots\n",
        "    decade_order = [\n",
        "        \"Late 1940s\", \"Early 1950s\", \"Late 1950s\",\n",
        "        \"Early 1960s\", \"Late 1960s\", \"Early 1970s\",\n",
        "        \"Late 1970s\", \"Early 1980s\", \"Late 1980s\"\n",
        "    ]\n",
        "\n",
        "    # Convert Decade to categorical type with specified order\n",
        "    lyrics['Decade'] = pd.Categorical(\n",
        "        lyrics['Decade'],\n",
        "        categories=decade_order,\n",
        "        ordered=True\n",
        "    )\n",
        "\n",
        "    # Compute entropy by decade\n",
        "    decade_entropy = []\n",
        "\n",
        "    # Group by decade\n",
        "    for decade in decade_order:\n",
        "        # Get lyrics for this decade\n",
        "        decade_lyrics = lyrics[lyrics['Decade'] == decade]\n",
        "\n",
        "        # Skip if no lyrics for this decade\n",
        "        if len(decade_lyrics) == 0:\n",
        "            continue\n",
        "\n",
        "        # Create corpus dataframe\n",
        "        decade_corpus = pd.DataFrame({\n",
        "            'corpus': decade_lyrics['Lyrics']\n",
        "        })\n",
        "\n",
        "        # Compute frequencies\n",
        "        freqs = arabic_characters_frequency(decade_corpus)\n",
        "\n",
        "        # Normalize frequencies\n",
        "        letter_normalized_freqs = normalize_arabic_letters(freqs)\n",
        "\n",
        "        # Calculate probability distribution\n",
        "        prob_dist = extract_prob_dist(letter_normalized_freqs)\n",
        "\n",
        "        # Calculate entropy\n",
        "        decade_entropy.append({\n",
        "            'Decade': decade,\n",
        "            'val': entropy(prob_dist)\n",
        "        })\n",
        "\n",
        "    # Convert to DataFrame\n",
        "    decade_entropy_df = pd.DataFrame(decade_entropy)\n",
        "\n",
        "    return decade_entropy_df, lyrics"
      ]
    },
    {
      "cell_type": "markdown",
      "id": "sCGDc9UI4eTg",
      "metadata": {
        "id": "sCGDc9UI4eTg"
      },
      "source": [
        "\n",
        "The `compute_entropy_by_named_decade` function calculates the entropy of song lyrics for named decades (e.g., \"Late 1940s\", \"Early 1950s\"). It first assigns each song to its corresponding named decade, then calculates the entropy of the lyrics for each decade. The function returns a DataFrame with the entropy values for each decade, allowing for analysis of lyric diversity and complexity over time. Additionally, it provides a sorted version of the song data that can be used for further analysis or visualization.\n"
      ]
    },
    {
      "cell_type": "code",
      "execution_count": 23,
      "id": "1fe7f165c989e6cb",
      "metadata": {
        "ExecuteTime": {
          "end_time": "2025-05-14T00:23:11.944513100Z",
          "start_time": "2025-03-20T14:04:16.859872Z"
        },
        "id": "1fe7f165c989e6cb"
      },
      "outputs": [],
      "source": [
        "def plot_named_decade_entropy(decade_entropy_df, corpus_entropy):\n",
        "    \"\"\"\n",
        "    Plot entropy by named decade as a bar chart\n",
        "    \"\"\"\n",
        "    plt.figure(figsize=(12, 6))\n",
        "\n",
        "    # Create bar chart\n",
        "    plt.bar(decade_entropy_df['Decade'], decade_entropy_df['val'],\n",
        "            color='darkblue', edgecolor='black')\n",
        "\n",
        "    # Add horizontal line for corpus entropy\n",
        "    plt.axhline(y=corpus_entropy, color='red', linestyle='dashed',\n",
        "                label='Corpus Entropy')\n",
        "\n",
        "    # Add title and labels\n",
        "    plt.title('Entropy by Decade')\n",
        "    plt.ylabel('Entropy')\n",
        "\n",
        "    # Rotate x-axis labels\n",
        "    plt.xticks(rotation=45, ha='right')\n",
        "\n",
        "    # Set y-axis ticks\n",
        "    plt.yticks(np.arange(0, 4.5, 0.2))\n",
        "\n",
        "    # Add grid\n",
        "    plt.grid(axis='y', linestyle='--', alpha=0.7)\n",
        "\n",
        "    plt.legend()\n",
        "    plt.tight_layout()\n",
        "\n",
        "    # Save and show plot\n",
        "    plt.savefig(r\"./results/named_decade_entropy.png\")\n",
        "    plt.show()\n",
        "\n",
        "    return plt"
      ]
    },
    {
      "cell_type": "code",
      "execution_count": 25,
      "id": "224cd4c27eb98857",
      "metadata": {
        "ExecuteTime": {
          "end_time": "2025-05-14T00:23:11.944513100Z",
          "start_time": "2025-03-20T14:04:16.873582Z"
        },
        "id": "224cd4c27eb98857",
        "outputId": "9054e310-7d43-4eb1-b059-e40cd2194e64"
      },
      "outputs": [
        {
          "name": "stdout",
          "output_type": "stream",
          "text": [
            "Loading songs data...\n",
            "Total number of songs with lyrics: 310\n",
            "\n",
            "--- Computing corpus entropy ---\n",
            "The entropy of the whole corpus is: 2.5123773010471995\n",
            "\n",
            "--- Computing named decade entropy ---\n",
            "Entropy values by named decade:\n",
            "        Decade       val\n",
            "0  Early 1980s  2.439527\n",
            "1   Late 1980s  2.480539\n",
            "\n",
            "--- Plotting named decade entropy ---\n"
          ]
        },
        {
          "data": {
            "image/png": "[encoded data removed]",
            "text/plain": [
              "<Figure size 1200x600 with 1 Axes>"
            ]
          },
          "metadata": {},
          "output_type": "display_data"
        },
        {
          "name": "stdout",
          "output_type": "stream",
          "text": [
            "\n",
            "--- Saving results ---\n",
            "\n",
            "Named decade analysis complete. Results and plots saved.\n"
          ]
        }
      ],
      "source": [
        "# Update the main function to include the named decade analysis\n",
        "def main():\n",
        "    # Load songs data\n",
        "    DATA_PATH = r\"../data/amr_diab_songs.csv\"\n",
        "\n",
        "    try:\n",
        "        # Load csv file\n",
        "        print(\"Loading songs data...\")\n",
        "        songs = pd.read_csv(DATA_PATH)\n",
        "\n",
        "        # Extract lyrics for whole corpus entropy\n",
        "        lyrics = pd.DataFrame({\n",
        "            'Song': songs['Song'],\n",
        "            'Year': songs['Year'],\n",
        "            'Lyrics': songs['Lyrics'].dropna()\n",
        "        })\n",
        "\n",
        "        print(f\"Total number of songs with lyrics: {len(lyrics)}\")\n",
        "\n",
        "        # 1. Compute corpus entropy first (needed for comparison in decade plot)\n",
        "        print(\"\\n--- Computing corpus entropy ---\")\n",
        "        lyrics_corpus = pd.DataFrame({\n",
        "            'corpus': lyrics['Lyrics'].dropna()\n",
        "        })\n",
        "\n",
        "        # Calculate letter frequencies\n",
        "        freqs = arabic_characters_frequency(lyrics_corpus)\n",
        "        letter_normalized_freqs = normalize_arabic_letters(freqs)\n",
        "        prob_dist = extract_prob_dist(letter_normalized_freqs)\n",
        "        corpus_entropy = entropy(prob_dist)\n",
        "\n",
        "        print(f\"The entropy of the whole corpus is: {corpus_entropy}\")\n",
        "\n",
        "        # 2. Compute and plot named decade entropy\n",
        "        print(\"\\n--- Computing named decade entropy ---\")\n",
        "        named_decade_entropy, lyrics_with_decade = compute_entropy_by_named_decade(songs)\n",
        "\n",
        "        print(\"Entropy values by named decade:\")\n",
        "        print(named_decade_entropy)\n",
        "\n",
        "        print(\"\\n--- Plotting named decade entropy ---\")\n",
        "        plot_named_decade_entropy(named_decade_entropy, corpus_entropy)\n",
        "\n",
        "        # Save results\n",
        "        print(\"\\n--- Saving results ---\")\n",
        "        named_decade_entropy.to_csv(r\"./results/named_decade_entropy.csv\", index=False)\n",
        "        lyrics_with_decade.to_csv(r\"./results/lyrics_with_decade.csv\", index=False)\n",
        "\n",
        "        print(\"\\nNamed decade analysis complete. Results and plots saved.\")\n",
        "\n",
        "    except Exception as e:\n",
        "        print(f\"An error occurred: {e}\")\n",
        "        # print traceback for more detailed error information\n",
        "        import traceback\n",
        "        traceback.print_exc()\n",
        "\n",
        "if __name__ == \"__main__\":\n",
        "    main()"
      ]
    },
    {
      "cell_type": "markdown",
      "id": "FiXvTZfs50FO",
      "metadata": {
        "id": "FiXvTZfs50FO"
      },
      "source": [
        "The updated `main()` function performs a detailed analysis of song lyrics:\n",
        "\n",
        "`Corpus Entropy`: The entropy for the entire collection of songs is computed to measure the overall unpredictability.\n",
        "\n",
        "`Named Decade Entropy`: The entropy for each song, grouped by named decades (e.g., \"Late 1940s\", \"Early 1950s\"), is calculated and visualized.\n",
        "\n",
        "\n",
        "The function provides a comprehensive analysis of the diversity and unpredictability in song lyrics over different time periods (decades) and allows for comparison between individual song entropy and overall corpus entropy."
      ]
    }
  ],
  "metadata": {
    "colab": {
      "provenance": []
    },
    "kernelspec": {
      "display_name": "Python 3",
      "language": "python",
      "name": "python3"
    },
    "language_info": {
      "codemirror_mode": {
        "name": "ipython",
        "version": 3
      },
      "file_extension": ".py",
      "mimetype": "text/x-python",
      "name": "python",
      "nbconvert_exporter": "python",
      "pygments_lexer": "ipython3",
      "version": "3.11.4"
    }
  },
  "nbformat": 4,
  "nbformat_minor": 5
}
